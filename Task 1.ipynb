{
 "cells": [
  {
   "cell_type": "markdown",
   "id": "89b64833",
   "metadata": {
    "id": "89b64833"
   },
   "source": [
    "## ANZ Assignment"
   ]
  },
  {
   "cell_type": "markdown",
   "id": "7f738b29",
   "metadata": {},
   "source": [
    "We will start with importing the libraries needed for solving the problem. "
   ]
  },
  {
   "cell_type": "code",
   "execution_count": null,
   "id": "eaab7910",
   "metadata": {
    "id": "eaab7910"
   },
   "outputs": [],
   "source": [
    "import pandas as pd\n",
    "import warnings\n",
    "#Display the entire column while showing the output\n",
    "pd.set_option('display.max_columns',None)\n",
    "#Display the entire row while showing the output\n",
    "pd.set_option('display.max_rows',None)\n",
    "#Suppress all the warnings\n",
    "warnings.simplefilter(action='ignore', category=FutureWarning)"
   ]
  },
  {
   "cell_type": "markdown",
   "id": "cae7ecc5",
   "metadata": {
    "id": "cae7ecc5"
   },
   "source": [
    "## Reading Data"
   ]
  },
  {
   "cell_type": "code",
   "execution_count": null,
   "id": "aecf3ba5",
   "metadata": {
    "id": "aecf3ba5"
   },
   "outputs": [],
   "source": [
    "# use of read_excel is used to read the excel file using pandas\n",
    "customer = pd.read_excel(\"2019-20-australian-government-contract-data.xlsx\")"
   ]
  },
  {
   "cell_type": "markdown",
   "id": "ab0658a5",
   "metadata": {
    "id": "ab0658a5"
   },
   "source": [
    "### Introspecting and cleaning data"
   ]
  },
  {
   "cell_type": "code",
   "execution_count": null,
   "id": "96b5dff7",
   "metadata": {
    "colab": {
     "base_uri": "https://localhost:8080/"
    },
    "id": "96b5dff7",
    "outputId": "258b0463-88e3-4a42-9c8b-5eb0ae36b4e1"
   },
   "outputs": [
    {
     "data": {
      "text/html": [
       "<div>\n",
       "<style scoped>\n",
       "    .dataframe tbody tr th:only-of-type {\n",
       "        vertical-align: middle;\n",
       "    }\n",
       "\n",
       "    .dataframe tbody tr th {\n",
       "        vertical-align: top;\n",
       "    }\n",
       "\n",
       "    .dataframe thead th {\n",
       "        text-align: right;\n",
       "    }\n",
       "</style>\n",
       "<table border=\"1\" class=\"dataframe\">\n",
       "  <thead>\n",
       "    <tr style=\"text-align: right;\">\n",
       "      <th></th>\n",
       "      <th>Agency Name</th>\n",
       "      <th>Parent Contract ID</th>\n",
       "      <th>Contract ID</th>\n",
       "      <th>Publish Date</th>\n",
       "      <th>Start Date</th>\n",
       "      <th>End Date</th>\n",
       "      <th>Value</th>\n",
       "      <th>Amendment Date</th>\n",
       "      <th>Amendment Start Date</th>\n",
       "      <th>Amendments Value</th>\n",
       "      <th>Description</th>\n",
       "      <th>Agency Ref ID</th>\n",
       "      <th>UNSPSC Code</th>\n",
       "      <th>UNSPSC Title</th>\n",
       "      <th>Procurement Method</th>\n",
       "      <th>ATM ID</th>\n",
       "      <th>SON ID</th>\n",
       "      <th>Panel Arrangement</th>\n",
       "      <th>Confidentiality Contract Flag</th>\n",
       "      <th>Confidentiality Contract Reason</th>\n",
       "      <th>Confidentiality Outputs Flag</th>\n",
       "      <th>Confidentiality Outputs Reason</th>\n",
       "      <th>Consultancy Flag</th>\n",
       "      <th>Consultancy Reason</th>\n",
       "      <th>Amendment Reason</th>\n",
       "      <th>Supplier Name</th>\n",
       "      <th>Supplier Address</th>\n",
       "      <th>Supplier Suburb</th>\n",
       "      <th>Supplier Postcode</th>\n",
       "      <th>Supplier State</th>\n",
       "      <th>Supplier Country</th>\n",
       "      <th>Supplier ABN Exempt</th>\n",
       "      <th>Supplier ABN</th>\n",
       "      <th>Contact Name</th>\n",
       "      <th>Contact Phone</th>\n",
       "      <th>Branch</th>\n",
       "      <th>Division</th>\n",
       "      <th>Office Postcode</th>\n",
       "      <th>Applicable Publish Date</th>\n",
       "      <th>Applicable FY Year</th>\n",
       "      <th>Applicable Value</th>\n",
       "      <th>Duration Years</th>\n",
       "      <th>Applicable Start Date</th>\n",
       "    </tr>\n",
       "  </thead>\n",
       "  <tbody>\n",
       "    <tr>\n",
       "      <th>0</th>\n",
       "      <td>Department of Defence</td>\n",
       "      <td>NaN</td>\n",
       "      <td>CN3620990</td>\n",
       "      <td>2019-08-20</td>\n",
       "      <td>2019-05-01</td>\n",
       "      <td>2019-05-31</td>\n",
       "      <td>16163.40</td>\n",
       "      <td>NaT</td>\n",
       "      <td>NaT</td>\n",
       "      <td>NaN</td>\n",
       "      <td>Fitness Equipment</td>\n",
       "      <td>4501071435</td>\n",
       "      <td>49200000</td>\n",
       "      <td>Fitness equipment</td>\n",
       "      <td>Limited tender</td>\n",
       "      <td>NaN</td>\n",
       "      <td>NaN</td>\n",
       "      <td>NaN</td>\n",
       "      <td>No</td>\n",
       "      <td>NaN</td>\n",
       "      <td>No</td>\n",
       "      <td>NaN</td>\n",
       "      <td>No</td>\n",
       "      <td>NaN</td>\n",
       "      <td>NaN</td>\n",
       "      <td>BLP TRAINING &amp; SERVICES PTY LTD</td>\n",
       "      <td>NaN</td>\n",
       "      <td>BEENLEIGH</td>\n",
       "      <td>4207</td>\n",
       "      <td>QLD</td>\n",
       "      <td>AUSTRALIA</td>\n",
       "      <td>No</td>\n",
       "      <td>4.007962e+10</td>\n",
       "      <td>Army Forces Command</td>\n",
       "      <td>0</td>\n",
       "      <td>Army Forces Command</td>\n",
       "      <td>ARMY HEADQUARTERS</td>\n",
       "      <td>2021</td>\n",
       "      <td>2019-08-20</td>\n",
       "      <td>2020</td>\n",
       "      <td>16163.40</td>\n",
       "      <td>0.222222</td>\n",
       "      <td>2019-05-01</td>\n",
       "    </tr>\n",
       "    <tr>\n",
       "      <th>1</th>\n",
       "      <td>Australian Bureau of Statistics</td>\n",
       "      <td>CN3602517</td>\n",
       "      <td>CN3602517-A1</td>\n",
       "      <td>2019-06-21</td>\n",
       "      <td>2018-07-01</td>\n",
       "      <td>2023-06-30</td>\n",
       "      <td>1964000.00</td>\n",
       "      <td>2020-05-25</td>\n",
       "      <td>2020-05-25</td>\n",
       "      <td>648000.00</td>\n",
       "      <td>Software Maintenance</td>\n",
       "      <td>ABS2018.450</td>\n",
       "      <td>81112200</td>\n",
       "      <td>Software maintenance and support</td>\n",
       "      <td>Open tender</td>\n",
       "      <td>NaN</td>\n",
       "      <td>SON3520963</td>\n",
       "      <td>Yes</td>\n",
       "      <td>No</td>\n",
       "      <td>NaN</td>\n",
       "      <td>No</td>\n",
       "      <td>NaN</td>\n",
       "      <td>No</td>\n",
       "      <td>NaN</td>\n",
       "      <td>Variation</td>\n",
       "      <td>IBM Australia Limited</td>\n",
       "      <td>NaN</td>\n",
       "      <td>Pennant Hills</td>\n",
       "      <td>1715</td>\n",
       "      <td>NSW</td>\n",
       "      <td>AUSTRALIA</td>\n",
       "      <td>No</td>\n",
       "      <td>7.900002e+10</td>\n",
       "      <td>Director, procurement</td>\n",
       "      <td>NaN</td>\n",
       "      <td>NaN</td>\n",
       "      <td>NaN</td>\n",
       "      <td>2617</td>\n",
       "      <td>2020-05-25</td>\n",
       "      <td>2020</td>\n",
       "      <td>648000.00</td>\n",
       "      <td>3.097222</td>\n",
       "      <td>2020-05-25</td>\n",
       "    </tr>\n",
       "    <tr>\n",
       "      <th>2</th>\n",
       "      <td>Services Australia</td>\n",
       "      <td>NaN</td>\n",
       "      <td>CN3671573</td>\n",
       "      <td>2020-04-07</td>\n",
       "      <td>2020-03-19</td>\n",
       "      <td>2020-03-27</td>\n",
       "      <td>155997.60</td>\n",
       "      <td>NaT</td>\n",
       "      <td>NaT</td>\n",
       "      <td>NaN</td>\n",
       "      <td>Training Services</td>\n",
       "      <td>D296030217</td>\n",
       "      <td>86000000</td>\n",
       "      <td>Education and Training Services</td>\n",
       "      <td>Open tender</td>\n",
       "      <td>NaN</td>\n",
       "      <td>SON3393682</td>\n",
       "      <td>Yes</td>\n",
       "      <td>No</td>\n",
       "      <td>NaN</td>\n",
       "      <td>No</td>\n",
       "      <td>NaN</td>\n",
       "      <td>No</td>\n",
       "      <td>NaN</td>\n",
       "      <td>NaN</td>\n",
       "      <td>Benestar Group Pty Ltd</td>\n",
       "      <td>PO Box Q1436</td>\n",
       "      <td>QVB Post Office Sydney</td>\n",
       "      <td>1230</td>\n",
       "      <td>NSW</td>\n",
       "      <td>Australia</td>\n",
       "      <td>No</td>\n",
       "      <td>6.100354e+10</td>\n",
       "      <td>PURCHASING HELPDESK</td>\n",
       "      <td>1800 906 144</td>\n",
       "      <td>DHS Branch</td>\n",
       "      <td>DHS Division</td>\n",
       "      <td>2900</td>\n",
       "      <td>2020-04-07</td>\n",
       "      <td>2020</td>\n",
       "      <td>155997.60</td>\n",
       "      <td>0.027778</td>\n",
       "      <td>2020-03-19</td>\n",
       "    </tr>\n",
       "    <tr>\n",
       "      <th>3</th>\n",
       "      <td>Department of Health</td>\n",
       "      <td>NaN</td>\n",
       "      <td>CN3648860</td>\n",
       "      <td>2019-12-19</td>\n",
       "      <td>2020-01-02</td>\n",
       "      <td>2020-06-30</td>\n",
       "      <td>169542.12</td>\n",
       "      <td>NaT</td>\n",
       "      <td>NaT</td>\n",
       "      <td>NaN</td>\n",
       "      <td>Labour Hire</td>\n",
       "      <td>4500135727</td>\n",
       "      <td>80111700</td>\n",
       "      <td>Personnel recruitment</td>\n",
       "      <td>Open tender</td>\n",
       "      <td>RFT20000551</td>\n",
       "      <td>SON3403954</td>\n",
       "      <td>Yes</td>\n",
       "      <td>No</td>\n",
       "      <td>NaN</td>\n",
       "      <td>No</td>\n",
       "      <td>NaN</td>\n",
       "      <td>No</td>\n",
       "      <td>NaN</td>\n",
       "      <td>NaN</td>\n",
       "      <td>PEOPLEBANK AUSTRALIA LTD</td>\n",
       "      <td>NaN</td>\n",
       "      <td>NORTH SYDNEY</td>\n",
       "      <td>2060</td>\n",
       "      <td>NSW</td>\n",
       "      <td>Australia</td>\n",
       "      <td>No</td>\n",
       "      <td>4.200400e+10</td>\n",
       "      <td>BMU</td>\n",
       "      <td>02 6289 4977</td>\n",
       "      <td>NaN</td>\n",
       "      <td>Cancer Hearing and Program Support DIV</td>\n",
       "      <td>2606</td>\n",
       "      <td>2019-12-19</td>\n",
       "      <td>2020</td>\n",
       "      <td>169542.12</td>\n",
       "      <td>0.530556</td>\n",
       "      <td>2020-01-02</td>\n",
       "    </tr>\n",
       "    <tr>\n",
       "      <th>4</th>\n",
       "      <td>Administrative Appeals Tribunal</td>\n",
       "      <td>CN3591066</td>\n",
       "      <td>CN3591066-A1</td>\n",
       "      <td>2019-05-13</td>\n",
       "      <td>2019-02-27</td>\n",
       "      <td>2019-07-31</td>\n",
       "      <td>13263.55</td>\n",
       "      <td>2019-07-25</td>\n",
       "      <td>2019-06-01</td>\n",
       "      <td>13263.55</td>\n",
       "      <td>Labour hire contractor</td>\n",
       "      <td>4500000293</td>\n",
       "      <td>80111600</td>\n",
       "      <td>Temporary personnel services</td>\n",
       "      <td>Limited tender</td>\n",
       "      <td>NaN</td>\n",
       "      <td>NaN</td>\n",
       "      <td>NaN</td>\n",
       "      <td>No</td>\n",
       "      <td>NaN</td>\n",
       "      <td>No</td>\n",
       "      <td>NaN</td>\n",
       "      <td>No</td>\n",
       "      <td>NaN</td>\n",
       "      <td>Extension date</td>\n",
       "      <td>LAUNCH RECRUITMENT PTY LTD</td>\n",
       "      <td>LEVEL 10 1 CASTLEREAGH STREET</td>\n",
       "      <td>SYDNEY</td>\n",
       "      <td>2000</td>\n",
       "      <td>NSW</td>\n",
       "      <td>AUSTRALIA</td>\n",
       "      <td>No</td>\n",
       "      <td>5.411914e+10</td>\n",
       "      <td>PROCUREMENT OFFICER</td>\n",
       "      <td>(03)9454 6100</td>\n",
       "      <td>Administrative Appeals Tribunal Administrative...</td>\n",
       "      <td>AAT Administrative Appeals Tribunal</td>\n",
       "      <td>4000</td>\n",
       "      <td>2019-07-25</td>\n",
       "      <td>2020</td>\n",
       "      <td>13263.55</td>\n",
       "      <td>0.016667</td>\n",
       "      <td>2019-06-01</td>\n",
       "    </tr>\n",
       "  </tbody>\n",
       "</table>\n",
       "</div>"
      ],
      "text/plain": [
       "                       Agency Name Parent Contract ID   Contract ID  \\\n",
       "0            Department of Defence                NaN     CN3620990   \n",
       "1  Australian Bureau of Statistics          CN3602517  CN3602517-A1   \n",
       "2               Services Australia                NaN     CN3671573   \n",
       "3             Department of Health                NaN     CN3648860   \n",
       "4  Administrative Appeals Tribunal          CN3591066  CN3591066-A1   \n",
       "\n",
       "  Publish Date Start Date   End Date       Value Amendment Date  \\\n",
       "0   2019-08-20 2019-05-01 2019-05-31    16163.40            NaT   \n",
       "1   2019-06-21 2018-07-01 2023-06-30  1964000.00     2020-05-25   \n",
       "2   2020-04-07 2020-03-19 2020-03-27   155997.60            NaT   \n",
       "3   2019-12-19 2020-01-02 2020-06-30   169542.12            NaT   \n",
       "4   2019-05-13 2019-02-27 2019-07-31    13263.55     2019-07-25   \n",
       "\n",
       "  Amendment Start Date  Amendments Value             Description  \\\n",
       "0                  NaT               NaN       Fitness Equipment   \n",
       "1           2020-05-25         648000.00    Software Maintenance   \n",
       "2                  NaT               NaN       Training Services   \n",
       "3                  NaT               NaN             Labour Hire   \n",
       "4           2019-06-01          13263.55  Labour hire contractor   \n",
       "\n",
       "  Agency Ref ID  UNSPSC Code                      UNSPSC Title  \\\n",
       "0    4501071435     49200000                 Fitness equipment   \n",
       "1   ABS2018.450     81112200  Software maintenance and support   \n",
       "2    D296030217     86000000   Education and Training Services   \n",
       "3    4500135727     80111700             Personnel recruitment   \n",
       "4    4500000293     80111600      Temporary personnel services   \n",
       "\n",
       "  Procurement Method       ATM ID      SON ID Panel Arrangement  \\\n",
       "0     Limited tender          NaN         NaN               NaN   \n",
       "1        Open tender          NaN  SON3520963               Yes   \n",
       "2        Open tender          NaN  SON3393682               Yes   \n",
       "3        Open tender  RFT20000551  SON3403954               Yes   \n",
       "4     Limited tender          NaN         NaN               NaN   \n",
       "\n",
       "  Confidentiality Contract Flag Confidentiality Contract Reason  \\\n",
       "0                            No                             NaN   \n",
       "1                            No                             NaN   \n",
       "2                            No                             NaN   \n",
       "3                            No                             NaN   \n",
       "4                            No                             NaN   \n",
       "\n",
       "  Confidentiality Outputs Flag Confidentiality Outputs Reason  \\\n",
       "0                           No                            NaN   \n",
       "1                           No                            NaN   \n",
       "2                           No                            NaN   \n",
       "3                           No                            NaN   \n",
       "4                           No                            NaN   \n",
       "\n",
       "  Consultancy Flag Consultancy Reason Amendment Reason  \\\n",
       "0               No                NaN              NaN   \n",
       "1               No                NaN        Variation   \n",
       "2               No                NaN              NaN   \n",
       "3               No                NaN              NaN   \n",
       "4               No                NaN   Extension date   \n",
       "\n",
       "                     Supplier Name               Supplier Address  \\\n",
       "0  BLP TRAINING & SERVICES PTY LTD                            NaN   \n",
       "1            IBM Australia Limited                            NaN   \n",
       "2           Benestar Group Pty Ltd                   PO Box Q1436   \n",
       "3         PEOPLEBANK AUSTRALIA LTD                            NaN   \n",
       "4       LAUNCH RECRUITMENT PTY LTD  LEVEL 10 1 CASTLEREAGH STREET   \n",
       "\n",
       "          Supplier Suburb Supplier Postcode Supplier State Supplier Country  \\\n",
       "0               BEENLEIGH              4207            QLD        AUSTRALIA   \n",
       "1           Pennant Hills              1715            NSW        AUSTRALIA   \n",
       "2  QVB Post Office Sydney              1230            NSW        Australia   \n",
       "3            NORTH SYDNEY              2060            NSW        Australia   \n",
       "4                  SYDNEY              2000            NSW        AUSTRALIA   \n",
       "\n",
       "  Supplier ABN Exempt  Supplier ABN           Contact Name  Contact Phone  \\\n",
       "0                  No  4.007962e+10    Army Forces Command              0   \n",
       "1                  No  7.900002e+10  Director, procurement            NaN   \n",
       "2                  No  6.100354e+10    PURCHASING HELPDESK   1800 906 144   \n",
       "3                  No  4.200400e+10                    BMU   02 6289 4977   \n",
       "4                  No  5.411914e+10    PROCUREMENT OFFICER  (03)9454 6100   \n",
       "\n",
       "                                              Branch  \\\n",
       "0                                Army Forces Command   \n",
       "1                                                NaN   \n",
       "2                                         DHS Branch   \n",
       "3                                                NaN   \n",
       "4  Administrative Appeals Tribunal Administrative...   \n",
       "\n",
       "                                 Division Office Postcode  \\\n",
       "0                       ARMY HEADQUARTERS            2021   \n",
       "1                                     NaN            2617   \n",
       "2                            DHS Division            2900   \n",
       "3  Cancer Hearing and Program Support DIV            2606   \n",
       "4     AAT Administrative Appeals Tribunal            4000   \n",
       "\n",
       "  Applicable Publish Date  Applicable FY Year  Applicable Value  \\\n",
       "0              2019-08-20                2020          16163.40   \n",
       "1              2020-05-25                2020         648000.00   \n",
       "2              2020-04-07                2020         155997.60   \n",
       "3              2019-12-19                2020         169542.12   \n",
       "4              2019-07-25                2020          13263.55   \n",
       "\n",
       "   Duration Years Applicable Start Date  \n",
       "0        0.222222            2019-05-01  \n",
       "1        3.097222            2020-05-25  \n",
       "2        0.027778            2020-03-19  \n",
       "3        0.530556            2020-01-02  \n",
       "4        0.016667            2019-06-01  "
      ]
     },
     "execution_count": 15,
     "metadata": {
      "tags": []
     },
     "output_type": "execute_result"
    }
   ],
   "source": [
    "#Top 5 oberservation is displayed to get an idea about how the data looks like\n",
    "customer.head()"
   ]
  },
  {
   "cell_type": "code",
   "execution_count": null,
   "id": "002c11bc",
   "metadata": {
    "colab": {
     "base_uri": "https://localhost:8080/"
    },
    "id": "002c11bc",
    "outputId": "51d34dd7-c300-4103-d332-39e1b6ab309a"
   },
   "outputs": [
    {
     "data": {
      "text/plain": [
       "(81174, 43)"
      ]
     },
     "execution_count": 16,
     "metadata": {
      "tags": []
     },
     "output_type": "execute_result"
    }
   ],
   "source": [
    "#Introspecting the dimensions of data we have\n",
    "customer.shape"
   ]
  },
  {
   "cell_type": "code",
   "execution_count": null,
   "id": "4550c51a",
   "metadata": {
    "colab": {
     "base_uri": "https://localhost:8080/"
    },
    "id": "4550c51a",
    "outputId": "15e89cec-935c-4250-c3a4-5c545383bc8a"
   },
   "outputs": [
    {
     "data": {
      "text/plain": [
       "Agency Name                            0\n",
       "Parent Contract ID                 65254\n",
       "Contract ID                            0\n",
       "Publish Date                           0\n",
       "Start Date                             0\n",
       "End Date                               0\n",
       "Value                                  0\n",
       "Amendment Date                     65254\n",
       "Amendment Start Date               65184\n",
       "Amendments Value                   65246\n",
       "Description                            2\n",
       "Agency Ref ID                       1458\n",
       "UNSPSC Code                            0\n",
       "UNSPSC Title                           0\n",
       "Procurement Method                     0\n",
       "ATM ID                             54697\n",
       "SON ID                             48619\n",
       "Panel Arrangement                  48697\n",
       "Confidentiality Contract Flag       1124\n",
       "Confidentiality Contract Reason    79008\n",
       "Confidentiality Outputs Flag        1124\n",
       "Confidentiality Outputs Reason     79393\n",
       "Consultancy Flag                    1124\n",
       "Consultancy Reason                 77696\n",
       "Amendment Reason                   65254\n",
       "Supplier Name                          0\n",
       "Supplier Address                   50094\n",
       "Supplier Suburb                       47\n",
       "Supplier Postcode                    318\n",
       "Supplier State                         0\n",
       "Supplier Country                       0\n",
       "Supplier ABN Exempt                    0\n",
       "Supplier ABN                        3664\n",
       "Contact Name                           0\n",
       "Contact Phone                      27915\n",
       "Branch                             24239\n",
       "Division                           13171\n",
       "Office Postcode                        0\n",
       "Applicable Publish Date                0\n",
       "Applicable FY Year                     0\n",
       "Applicable Value                       0\n",
       "Duration Years                         0\n",
       "Applicable Start Date                  0\n",
       "dtype: int64"
      ]
     },
     "execution_count": 17,
     "metadata": {
      "tags": []
     },
     "output_type": "execute_result"
    }
   ],
   "source": [
    "#Introspecting the missing value in the dataset\n",
    "customer.isna().sum()"
   ]
  },
  {
   "cell_type": "markdown",
   "id": "c4e33d53",
   "metadata": {},
   "source": [
    "Looking at the above results, there are lot of missing values in the colummns. However we will not deal with all the missing values as they are not required for the task in hand. We will remove the columns with most missing value like more than 50%.\n",
    "\n",
    "Below is a list of variables which have most missing value"
   ]
  },
  {
   "cell_type": "code",
   "execution_count": null,
   "id": "61b72661",
   "metadata": {
    "id": "61b72661"
   },
   "outputs": [],
   "source": [
    "list_of_variables = [\"Parent Contract ID\",\n",
    "                    \"Amendment Date\",\n",
    "                    \"Amendment Start Date\",\n",
    "                    \"Amendments Value\",\n",
    "                    \"ATM ID\",\n",
    "                    \"SON ID\",\n",
    "                    \"Panel Arrangement\",\n",
    "                    \"Confidentiality Contract Reason\",\n",
    "                    \"Confidentiality Outputs Reason\",\n",
    "                    \"Consultancy Reason\",\n",
    "                    \"Amendment Reason\",\n",
    "                    \"Supplier Address\",\n",
    "                    \"Contact Phone\"]\n",
    "\n",
    "customer.drop(columns = list_of_variables, inplace = True)"
   ]
  },
  {
   "cell_type": "code",
   "execution_count": null,
   "id": "14b9ab26",
   "metadata": {
    "colab": {
     "base_uri": "https://localhost:8080/"
    },
    "id": "14b9ab26",
    "outputId": "20177bce-0ced-4bb7-b430-475fd00c946c"
   },
   "outputs": [
    {
     "data": {
      "text/plain": [
       "Agency Name                          0\n",
       "Contract ID                          0\n",
       "Publish Date                         0\n",
       "Start Date                           0\n",
       "End Date                             0\n",
       "Value                                0\n",
       "Description                          2\n",
       "Agency Ref ID                     1458\n",
       "UNSPSC Code                          0\n",
       "UNSPSC Title                         0\n",
       "Procurement Method                   0\n",
       "Confidentiality Contract Flag     1124\n",
       "Confidentiality Outputs Flag      1124\n",
       "Consultancy Flag                  1124\n",
       "Supplier Name                        0\n",
       "Supplier Suburb                     47\n",
       "Supplier Postcode                  318\n",
       "Supplier State                       0\n",
       "Supplier Country                     0\n",
       "Supplier ABN Exempt                  0\n",
       "Supplier ABN                      3664\n",
       "Contact Name                         0\n",
       "Branch                           24239\n",
       "Division                         13171\n",
       "Office Postcode                      0\n",
       "Applicable Publish Date              0\n",
       "Applicable FY Year                   0\n",
       "Applicable Value                     0\n",
       "Duration Years                       0\n",
       "Applicable Start Date                0\n",
       "dtype: int64"
      ]
     },
     "execution_count": 19,
     "metadata": {
      "tags": []
     },
     "output_type": "execute_result"
    }
   ],
   "source": [
    "customer.isna().sum()"
   ]
  },
  {
   "cell_type": "markdown",
   "id": "d3f628ef",
   "metadata": {},
   "source": [
    "There are more variables which needs to be handled before proceeding with any task. However for the required task, we will skip the task, but in general, techniques like treating missing values with median or use of predictive model to treat the missing values. "
   ]
  },
  {
   "cell_type": "markdown",
   "id": "45690ff1",
   "metadata": {
    "id": "45690ff1"
   },
   "source": [
    "## Task 1"
   ]
  },
  {
   "cell_type": "markdown",
   "id": "9f009f27",
   "metadata": {},
   "source": [
    "Task 1 is all about choosing the customers which the banks needs to target for the business. For this task, the dataset has only \"Value\" attribute which can provide meaningful insights."
   ]
  },
  {
   "cell_type": "markdown",
   "id": "aa135fed",
   "metadata": {},
   "source": [
    "The approach here is to group by the data based on government agency or supplier and look for the top 10 contractors based on aggregated value of tender value."
   ]
  },
  {
   "cell_type": "markdown",
   "id": "b296905a",
   "metadata": {
    "id": "b296905a"
   },
   "source": [
    "### For Government Agency"
   ]
  },
  {
   "cell_type": "markdown",
   "id": "2dcd8a78",
   "metadata": {},
   "source": [
    "We will select only the Agency Name and Value attribute for selecting top 10 attributes"
   ]
  },
  {
   "cell_type": "code",
   "execution_count": null,
   "id": "764ab367",
   "metadata": {
    "id": "764ab367"
   },
   "outputs": [],
   "source": [
    "task_data = customer.loc[:,[\"Agency Name\",\"Value\"]]"
   ]
  },
  {
   "cell_type": "code",
   "execution_count": null,
   "id": "2f0fcb5b",
   "metadata": {
    "colab": {
     "base_uri": "https://localhost:8080/",
     "height": 343
    },
    "id": "2f0fcb5b",
    "outputId": "8703e1db-bafc-49d1-ae22-9c817e1ab5f0"
   },
   "outputs": [
    {
     "data": {
      "text/html": [
       "<div>\n",
       "<style scoped>\n",
       "    .dataframe tbody tr th:only-of-type {\n",
       "        vertical-align: middle;\n",
       "    }\n",
       "\n",
       "    .dataframe tbody tr th {\n",
       "        vertical-align: top;\n",
       "    }\n",
       "\n",
       "    .dataframe thead th {\n",
       "        text-align: right;\n",
       "    }\n",
       "</style>\n",
       "<table border=\"1\" class=\"dataframe\">\n",
       "  <thead>\n",
       "    <tr style=\"text-align: right;\">\n",
       "      <th></th>\n",
       "      <th>Agency Name</th>\n",
       "      <th>Value</th>\n",
       "    </tr>\n",
       "  </thead>\n",
       "  <tbody>\n",
       "    <tr>\n",
       "      <th>0</th>\n",
       "      <td>Department of Defence</td>\n",
       "      <td>16163.40</td>\n",
       "    </tr>\n",
       "    <tr>\n",
       "      <th>1</th>\n",
       "      <td>Australian Bureau of Statistics</td>\n",
       "      <td>1964000.00</td>\n",
       "    </tr>\n",
       "    <tr>\n",
       "      <th>2</th>\n",
       "      <td>Services Australia</td>\n",
       "      <td>155997.60</td>\n",
       "    </tr>\n",
       "    <tr>\n",
       "      <th>3</th>\n",
       "      <td>Department of Health</td>\n",
       "      <td>169542.12</td>\n",
       "    </tr>\n",
       "    <tr>\n",
       "      <th>4</th>\n",
       "      <td>Administrative Appeals Tribunal</td>\n",
       "      <td>13263.55</td>\n",
       "    </tr>\n",
       "  </tbody>\n",
       "</table>\n",
       "</div>"
      ],
      "text/plain": [
       "                       Agency Name       Value\n",
       "0            Department of Defence    16163.40\n",
       "1  Australian Bureau of Statistics  1964000.00\n",
       "2               Services Australia   155997.60\n",
       "3             Department of Health   169542.12\n",
       "4  Administrative Appeals Tribunal    13263.55"
      ]
     },
     "execution_count": 22,
     "metadata": {
      "tags": []
     },
     "output_type": "execute_result"
    }
   ],
   "source": [
    "task_data.head()"
   ]
  },
  {
   "cell_type": "code",
   "execution_count": null,
   "id": "6379f231",
   "metadata": {
    "id": "6379f231"
   },
   "outputs": [],
   "source": [
    "task_agg = task_data.groupby([\"Agency Name\"]).sum()"
   ]
  },
  {
   "cell_type": "code",
   "execution_count": null,
   "id": "800d9f8e",
   "metadata": {
    "id": "800d9f8e"
   },
   "outputs": [],
   "source": [
    "output_task1 = task_agg.sort_values(\"Value\", ascending=False).head(10)"
   ]
  },
  {
   "cell_type": "code",
   "execution_count": null,
   "id": "417f3263",
   "metadata": {
    "colab": {
     "base_uri": "https://localhost:8080/"
    },
    "id": "417f3263",
    "outputId": "054c01f4-2b4c-491a-c8f1-644612d8b61a"
   },
   "outputs": [
    {
     "name": "stdout",
     "output_type": "stream",
     "text": [
      "Top 10 Government Agencies based on the aggregated tender value:\n",
      "                                                           Value\n",
      "Agency Name                                                     \n",
      "Department of Defence                               338634651143\n",
      "Department of Home Affairs                           14590709932\n",
      "Australian Taxation Office                            9708490686\n",
      "Services Australia                                    4112482135\n",
      "Department of Education, Skills and Employment        3992985962\n",
      "Department of Finance                                 2700381992\n",
      "Department of Health                                  2661872177\n",
      "Digital Transformation Agency                         2056767296\n",
      "Department of Agriculture, Water and the Enviro...    2049859785\n",
      "Department of Foreign Affairs and Trade - Austr...    1657238729\n"
     ]
    }
   ],
   "source": [
    "output_task1[\"Value\"] = [f\"{a:.0f}\" for a in output_task1[\"Value\"]]\n",
    "\n",
    "print(\"Top 10 Government Agencies based on the aggregated tender value:\")\n",
    "print(output_task1)"
   ]
  },
  {
   "cell_type": "markdown",
   "id": "873d3c75",
   "metadata": {
    "id": "873d3c75"
   },
   "source": [
    "According to the data, the bank needs to service the above government agencies which has the aggregated tender value."
   ]
  },
  {
   "cell_type": "markdown",
   "id": "454e3727",
   "metadata": {
    "id": "454e3727"
   },
   "source": [
    "### Supplier"
   ]
  },
  {
   "cell_type": "markdown",
   "id": "91787cf8",
   "metadata": {},
   "source": [
    "We will select only the Suppliers Name and Value attribute for selecting top 10 attributes"
   ]
  },
  {
   "cell_type": "code",
   "execution_count": null,
   "id": "25ccc893",
   "metadata": {
    "id": "25ccc893"
   },
   "outputs": [],
   "source": [
    "task_data  = customer.loc[:,[\"Supplier Name\",\"Supplier Country\",\"Value\"]]"
   ]
  },
  {
   "cell_type": "code",
   "execution_count": null,
   "id": "6fe2a899",
   "metadata": {
    "colab": {
     "base_uri": "https://localhost:8080/",
     "height": 377
    },
    "id": "6fe2a899",
    "outputId": "980f5dad-9ca4-4221-9c8d-6e27ac492162"
   },
   "outputs": [
    {
     "data": {
      "text/html": [
       "<div>\n",
       "<style scoped>\n",
       "    .dataframe tbody tr th:only-of-type {\n",
       "        vertical-align: middle;\n",
       "    }\n",
       "\n",
       "    .dataframe tbody tr th {\n",
       "        vertical-align: top;\n",
       "    }\n",
       "\n",
       "    .dataframe thead th {\n",
       "        text-align: right;\n",
       "    }\n",
       "</style>\n",
       "<table border=\"1\" class=\"dataframe\">\n",
       "  <thead>\n",
       "    <tr style=\"text-align: right;\">\n",
       "      <th></th>\n",
       "      <th>Supplier Name</th>\n",
       "      <th>Supplier Country</th>\n",
       "      <th>Value</th>\n",
       "    </tr>\n",
       "  </thead>\n",
       "  <tbody>\n",
       "    <tr>\n",
       "      <th>0</th>\n",
       "      <td>BLP TRAINING &amp; SERVICES PTY LTD</td>\n",
       "      <td>AUSTRALIA</td>\n",
       "      <td>16163.40</td>\n",
       "    </tr>\n",
       "    <tr>\n",
       "      <th>1</th>\n",
       "      <td>IBM Australia Limited</td>\n",
       "      <td>AUSTRALIA</td>\n",
       "      <td>1964000.00</td>\n",
       "    </tr>\n",
       "    <tr>\n",
       "      <th>2</th>\n",
       "      <td>Benestar Group Pty Ltd</td>\n",
       "      <td>Australia</td>\n",
       "      <td>155997.60</td>\n",
       "    </tr>\n",
       "    <tr>\n",
       "      <th>3</th>\n",
       "      <td>PEOPLEBANK AUSTRALIA LTD</td>\n",
       "      <td>Australia</td>\n",
       "      <td>169542.12</td>\n",
       "    </tr>\n",
       "    <tr>\n",
       "      <th>4</th>\n",
       "      <td>LAUNCH RECRUITMENT PTY LTD</td>\n",
       "      <td>AUSTRALIA</td>\n",
       "      <td>13263.55</td>\n",
       "    </tr>\n",
       "  </tbody>\n",
       "</table>\n",
       "</div>"
      ],
      "text/plain": [
       "                     Supplier Name Supplier Country       Value\n",
       "0  BLP TRAINING & SERVICES PTY LTD        AUSTRALIA    16163.40\n",
       "1            IBM Australia Limited        AUSTRALIA  1964000.00\n",
       "2           Benestar Group Pty Ltd        Australia   155997.60\n",
       "3         PEOPLEBANK AUSTRALIA LTD        Australia   169542.12\n",
       "4       LAUNCH RECRUITMENT PTY LTD        AUSTRALIA    13263.55"
      ]
     },
     "execution_count": 27,
     "metadata": {
      "tags": []
     },
     "output_type": "execute_result"
    }
   ],
   "source": [
    "task_data.head()"
   ]
  },
  {
   "cell_type": "code",
   "execution_count": null,
   "id": "36173b6b",
   "metadata": {
    "id": "36173b6b"
   },
   "outputs": [],
   "source": [
    "task_data[\"Supplier Country\"] = task_data[\"Supplier Country\"].str.upper()"
   ]
  },
  {
   "cell_type": "code",
   "execution_count": null,
   "id": "1b91f76a",
   "metadata": {
    "colab": {
     "base_uri": "https://localhost:8080/",
     "height": 204
    },
    "id": "1b91f76a",
    "outputId": "c7f3f647-85eb-48e7-c960-fe24da45b36b"
   },
   "outputs": [
    {
     "data": {
      "text/html": [
       "<div>\n",
       "<style scoped>\n",
       "    .dataframe tbody tr th:only-of-type {\n",
       "        vertical-align: middle;\n",
       "    }\n",
       "\n",
       "    .dataframe tbody tr th {\n",
       "        vertical-align: top;\n",
       "    }\n",
       "\n",
       "    .dataframe thead th {\n",
       "        text-align: right;\n",
       "    }\n",
       "</style>\n",
       "<table border=\"1\" class=\"dataframe\">\n",
       "  <thead>\n",
       "    <tr style=\"text-align: right;\">\n",
       "      <th></th>\n",
       "      <th>Supplier Name</th>\n",
       "      <th>Supplier Country</th>\n",
       "      <th>Value</th>\n",
       "    </tr>\n",
       "  </thead>\n",
       "  <tbody>\n",
       "    <tr>\n",
       "      <th>0</th>\n",
       "      <td>BLP TRAINING &amp; SERVICES PTY LTD</td>\n",
       "      <td>AUSTRALIA</td>\n",
       "      <td>16163.40</td>\n",
       "    </tr>\n",
       "    <tr>\n",
       "      <th>1</th>\n",
       "      <td>IBM Australia Limited</td>\n",
       "      <td>AUSTRALIA</td>\n",
       "      <td>1964000.00</td>\n",
       "    </tr>\n",
       "    <tr>\n",
       "      <th>2</th>\n",
       "      <td>Benestar Group Pty Ltd</td>\n",
       "      <td>AUSTRALIA</td>\n",
       "      <td>155997.60</td>\n",
       "    </tr>\n",
       "    <tr>\n",
       "      <th>3</th>\n",
       "      <td>PEOPLEBANK AUSTRALIA LTD</td>\n",
       "      <td>AUSTRALIA</td>\n",
       "      <td>169542.12</td>\n",
       "    </tr>\n",
       "    <tr>\n",
       "      <th>4</th>\n",
       "      <td>LAUNCH RECRUITMENT PTY LTD</td>\n",
       "      <td>AUSTRALIA</td>\n",
       "      <td>13263.55</td>\n",
       "    </tr>\n",
       "  </tbody>\n",
       "</table>\n",
       "</div>"
      ],
      "text/plain": [
       "                     Supplier Name Supplier Country       Value\n",
       "0  BLP TRAINING & SERVICES PTY LTD        AUSTRALIA    16163.40\n",
       "1            IBM Australia Limited        AUSTRALIA  1964000.00\n",
       "2           Benestar Group Pty Ltd        AUSTRALIA   155997.60\n",
       "3         PEOPLEBANK AUSTRALIA LTD        AUSTRALIA   169542.12\n",
       "4       LAUNCH RECRUITMENT PTY LTD        AUSTRALIA    13263.55"
      ]
     },
     "execution_count": 29,
     "metadata": {
      "tags": []
     },
     "output_type": "execute_result"
    }
   ],
   "source": [
    "task_data.head()"
   ]
  },
  {
   "cell_type": "code",
   "execution_count": null,
   "id": "a1f6135c",
   "metadata": {
    "id": "a1f6135c"
   },
   "outputs": [],
   "source": [
    "task_data = task_data[task_data[\"Supplier Country\"] == \"AUSTRALIA\"]"
   ]
  },
  {
   "cell_type": "code",
   "execution_count": null,
   "id": "8b6d7dae",
   "metadata": {
    "id": "8b6d7dae"
   },
   "outputs": [],
   "source": [
    "task_agg = task_data.groupby([\"Supplier Name\"]).sum()"
   ]
  },
  {
   "cell_type": "code",
   "execution_count": null,
   "id": "80232e31",
   "metadata": {
    "id": "80232e31"
   },
   "outputs": [],
   "source": [
    "output_task1 = task_agg.sort_values(\"Value\", ascending=False).head(10)"
   ]
  },
  {
   "cell_type": "code",
   "execution_count": null,
   "id": "a2c44de2",
   "metadata": {
    "colab": {
     "base_uri": "https://localhost:8080/"
    },
    "id": "a2c44de2",
    "outputId": "6db90585-49f8-46f1-f541-99ab339866e0"
   },
   "outputs": [
    {
     "name": "stdout",
     "output_type": "stream",
     "text": [
      "Top 10 Supplier (based in Australia) based on the aggregated tender value:\n",
      "                                                          Value\n",
      "Supplier Name                                                  \n",
      "BOEING DEFENCE AUSTRALIA LTD                        60265165360\n",
      "BROADSPECTRUM (AUSTRALIA) PTY LTD - GEMS PROJECT    35895570730\n",
      "SPOTLESS FACILITY SERVICES PTY LTD GEMS PROJECT     27172169035\n",
      "NORTHROP GRUMMAN INTEGRATED DEFENCE SERVICES PT...  21714504382\n",
      "RHEINMETALL MAN MILITARY VEHICLES AUSTRALIA PTY...   9669507113\n",
      "THALES AUSTRALIA                                     9630905062\n",
      "ASC PTY LTD                                          8134339427\n",
      "LOCKHEED MARTIN AUSTRALIA PTY LIMITED                7635585221\n",
      "NAVAL SHIP MANAGEMENT (AUSTRALIA) PTY LTD            7024985902\n",
      "COMPASS GROUP DEFENCE HOSPITALITY SERVICES PTY ...   3972519978\n"
     ]
    }
   ],
   "source": [
    "output_task1[\"Value\"] = [f\"{a:.0f}\" for a in output_task1[\"Value\"]]\n",
    "\n",
    "print(\"Top 10 Supplier (based in Australia) based on the aggregated tender value:\")\n",
    "print(output_task1)"
   ]
  },
  {
   "cell_type": "markdown",
   "id": "0dcb27ab",
   "metadata": {},
   "source": [
    "The above two tables shows the top 20 customers the bank needs to target for the business."
   ]
  }
 ],
 "metadata": {
  "colab": {
   "name": "Assignment.ipynb",
   "provenance": []
  },
  "kernelspec": {
   "display_name": "Python 3",
   "language": "python",
   "name": "python3"
  },
  "language_info": {
   "codemirror_mode": {
    "name": "ipython",
    "version": 3
   },
   "file_extension": ".py",
   "mimetype": "text/x-python",
   "name": "python",
   "nbconvert_exporter": "python",
   "pygments_lexer": "ipython3",
   "version": "3.8.8"
  }
 },
 "nbformat": 4,
 "nbformat_minor": 5
}
